{
 "cells": [
  {
   "cell_type": "code",
   "execution_count": null,
   "metadata": {
    "colab": {
     "base_uri": "https://localhost:8080/"
    },
    "executionInfo": {
     "elapsed": 290,
     "status": "ok",
     "timestamp": 1644981491657,
     "user": {
      "displayName": "Luca Falchini",
      "photoUrl": "https://lh3.googleusercontent.com/a-/AOh14Gi46ftlFbRpNjilfUnJ-LeG-A8h3Cm5p9jYfq7qdA=s64",
      "userId": "08058928427060782535"
     },
     "user_tz": 180
    },
    "id": "agBpnMzdiM44",
    "outputId": "60b81dee-5291-46cd-a2fb-406acc798cdc"
   },
   "outputs": [
    {
     "name": "stdout",
     "output_type": "stream",
     "text": [
      "720\n",
      "40320\n"
     ]
    }
   ],
   "source": [
    "def fact(x):                 # Defino la función fact(x)\n",
    "    for i in range (1,x):    # Aplico el ciclo FOR para crear un bucle\n",
    "        x *= i               # Multiplico la variable x por el iterador i\n",
    "    return(x)\n",
    "\n",
    "res = fact(6)                # Almaceno el resultado en res\n",
    "\n",
    "print(res)                   # Muestro res\n",
    "\n",
    "res2 = fact(8)\n",
    "\n",
    "print(res2)"
   ]
  },
  {
   "cell_type": "code",
   "execution_count": 1,
   "metadata": {
    "colab": {
     "base_uri": "https://localhost:8080/"
    },
    "executionInfo": {
     "elapsed": 8,
     "status": "ok",
     "timestamp": 1645559348205,
     "user": {
      "displayName": "Luca Falchini",
      "photoUrl": "https://lh3.googleusercontent.com/a-/AOh14Gi46ftlFbRpNjilfUnJ-LeG-A8h3Cm5p9jYfq7qdA=s64",
      "userId": "08058928427060782535"
     },
     "user_tz": 180
    },
    "id": "NAhWVQWlibJB",
    "outputId": "97db986d-a3c6-4a6e-93ac-eab20b1f3369"
   },
   "outputs": [
    {
     "name": "stdout",
     "output_type": "stream",
     "text": [
      "27\n"
     ]
    }
   ],
   "source": [
    "def suma(x,y):                    # Defino la función suma\n",
    "    for i in range (x+1,y+1):     # Aplico el ciclo FOR para crear un bucle\n",
    "        x += i                    # Sumo la variable x a su iterador\n",
    "    return(x)\n",
    "\n",
    "res = suma(2,7)                   # Almaceno el resultado en res\n",
    "\n",
    "print(res)                        # Muestro res"
   ]
  },
  {
   "cell_type": "code",
   "execution_count": 3,
   "metadata": {
    "colab": {
     "base_uri": "https://localhost:8080/",
     "height": 478
    },
    "executionInfo": {
     "elapsed": 242,
     "status": "error",
     "timestamp": 1645559884293,
     "user": {
      "displayName": "Luca Falchini",
      "photoUrl": "https://lh3.googleusercontent.com/a-/AOh14Gi46ftlFbRpNjilfUnJ-LeG-A8h3Cm5p9jYfq7qdA=s64",
      "userId": "08058928427060782535"
     },
     "user_tz": 180
    },
    "id": "67iBc03H-uU3",
    "outputId": "9d8735db-aa64-4316-ec7e-3e8e3db2686a"
   },
   "outputs": [
    {
     "name": "stdout",
     "output_type": "stream",
     "text": [
      "720\n",
      "40320\n",
      "120\n",
      "-5 No tiene que dar -5\n",
      "#####\n",
      "120\n"
     ]
    },
    {
     "ename": "TypeError",
     "evalue": "ignored",
     "output_type": "error",
     "traceback": [
      "\u001b[0;31m---------------------------------------------------------------------------\u001b[0m",
      "\u001b[0;31mTypeError\u001b[0m                                 Traceback (most recent call last)",
      "\u001b[0;32m<ipython-input-3-fe34e1a6e83b>\u001b[0m in \u001b[0;36m<module>\u001b[0;34m()\u001b[0m\n\u001b[1;32m     28\u001b[0m   \u001b[0;32mreturn\u001b[0m \u001b[0mresultado\u001b[0m\u001b[0;34m\u001b[0m\u001b[0;34m\u001b[0m\u001b[0m\n\u001b[1;32m     29\u001b[0m \u001b[0mprint\u001b[0m\u001b[0;34m(\u001b[0m\u001b[0mfact\u001b[0m\u001b[0;34m(\u001b[0m\u001b[0;36m5\u001b[0m\u001b[0;34m)\u001b[0m\u001b[0;34m)\u001b[0m\u001b[0;34m\u001b[0m\u001b[0;34m\u001b[0m\u001b[0m\n\u001b[0;32m---> 30\u001b[0;31m \u001b[0mprint\u001b[0m\u001b[0;34m(\u001b[0m\u001b[0mfact\u001b[0m\u001b[0;34m(\u001b[0m\u001b[0;34m-\u001b[0m\u001b[0;36m5\u001b[0m\u001b[0;34m)\u001b[0m\u001b[0;34m)\u001b[0m \u001b[0;31m#Tira error\u001b[0m\u001b[0;34m\u001b[0m\u001b[0;34m\u001b[0m\u001b[0m\n\u001b[0m\u001b[1;32m     31\u001b[0m \u001b[0;34m\u001b[0m\u001b[0m\n\u001b[1;32m     32\u001b[0m \u001b[0;31m#Esto es avanzado, no hace falta saberlo ahora pero te lo dejo para que lo tengas\u001b[0m\u001b[0;34m\u001b[0m\u001b[0;34m\u001b[0m\u001b[0;34m\u001b[0m\u001b[0m\n",
      "\u001b[0;32m<ipython-input-3-fe34e1a6e83b>\u001b[0m in \u001b[0;36mfact\u001b[0;34m(x)\u001b[0m\n\u001b[1;32m     22\u001b[0m \u001b[0;32mdef\u001b[0m \u001b[0mfact\u001b[0m\u001b[0;34m(\u001b[0m\u001b[0mx\u001b[0m\u001b[0;34m)\u001b[0m\u001b[0;34m:\u001b[0m\u001b[0;34m\u001b[0m\u001b[0;34m\u001b[0m\u001b[0m\n\u001b[1;32m     23\u001b[0m   \u001b[0;32mif\u001b[0m \u001b[0mx\u001b[0m \u001b[0;34m<\u001b[0m \u001b[0;36m0\u001b[0m\u001b[0;34m:\u001b[0m\u001b[0;34m\u001b[0m\u001b[0;34m\u001b[0m\u001b[0m\n\u001b[0;32m---> 24\u001b[0;31m         \u001b[0;32mraise\u001b[0m \u001b[0mTypeError\u001b[0m\u001b[0;34m(\u001b[0m\u001b[0;34m\"El factorial de un numero negativo no se puede calcular con esta función\"\u001b[0m\u001b[0;34m)\u001b[0m \u001b[0;31m#raise se usa para levantar errores.\u001b[0m\u001b[0;34m\u001b[0m\u001b[0;34m\u001b[0m\u001b[0m\n\u001b[0m\u001b[1;32m     25\u001b[0m   \u001b[0mresultado\u001b[0m \u001b[0;34m=\u001b[0m \u001b[0;36m1\u001b[0m \u001b[0;31m#Defaulteando a 1 tenes la base\u001b[0m\u001b[0;34m\u001b[0m\u001b[0;34m\u001b[0m\u001b[0m\n\u001b[1;32m     26\u001b[0m   \u001b[0;32mfor\u001b[0m \u001b[0mnum\u001b[0m \u001b[0;32min\u001b[0m \u001b[0mrange\u001b[0m\u001b[0;34m(\u001b[0m\u001b[0;36m1\u001b[0m\u001b[0;34m,\u001b[0m \u001b[0mx\u001b[0m \u001b[0;34m+\u001b[0m \u001b[0;36m1\u001b[0m\u001b[0;34m)\u001b[0m\u001b[0;34m:\u001b[0m\u001b[0;34m\u001b[0m\u001b[0;34m\u001b[0m\u001b[0m\n",
      "\u001b[0;31mTypeError\u001b[0m: El factorial de un numero negativo no se puede calcular con esta función"
     ]
    }
   ],
   "source": [
    "def fact(x):                 # Defino la función fact(x)\n",
    "    for i in range (1,x):    # Aplico el ciclo FOR para crear un bucle\n",
    "        x *= i               # Multiplico la variable x por el iterador i\n",
    "    return(x)\n",
    "\n",
    "res = fact(6)                # Almaceno el resultado en res\n",
    "\n",
    "print(res)                   # Muestro res\n",
    "\n",
    "res2 = fact(8)\n",
    "\n",
    "print(res2)\n",
    "\n",
    "\n",
    "#Esto está bien porque la consigna no especifica que sean enteros positivos\n",
    "#Pero el factorial para numeros reales o complejos se hace distinto\n",
    "\n",
    "print(fact(5))\n",
    "print(fact(-5), \"No tiene que dar -5\")\n",
    "print(\"#####\")\n",
    "#Podrías poner una validación en el medio de la siguiente manera\n",
    "def fact(x):\n",
    "  if x < 0:\n",
    "        raise TypeError(\"El factorial de un numero negativo no se puede calcular con esta función\") #raise se usa para levantar errores. \n",
    "  resultado = 1 #Defaulteando a 1 tenes la base\n",
    "  for num in range(1, x + 1): \n",
    "    resultado *= num\n",
    "  return resultado\n",
    "print(fact(5))\n",
    "print(fact(-5)) #Tira error\n",
    "\n",
    "#Esto es avanzado, no hace falta saberlo ahora pero te lo dejo para que lo tengas \n",
    "#https://www.geeksforgeeks.org/python-raise-keyword/"
   ]
  },
  {
   "cell_type": "code",
   "execution_count": null,
   "metadata": {
    "colab": {
     "base_uri": "https://localhost:8080/",
     "height": 356
    },
    "executionInfo": {
     "elapsed": 280,
     "status": "error",
     "timestamp": 1645559888979,
     "user": {
      "displayName": "Luca Falchini",
      "photoUrl": "https://lh3.googleusercontent.com/a-/AOh14Gi46ftlFbRpNjilfUnJ-LeG-A8h3Cm5p9jYfq7qdA=s64",
      "userId": "08058928427060782535"
     },
     "user_tz": 180
    },
    "id": "c3Qhgw_OAyAW",
    "outputId": "43acf946-1acb-4afd-c76c-f6a326bb6999"
   },
   "outputs": [
    {
     "name": "stdout",
     "output_type": "stream",
     "text": [
      "5050\n"
     ]
    },
    {
     "ename": "ValueError",
     "evalue": "El fin no puede ser menor al inicio",
     "output_type": "error",
     "traceback": [
      "\u001b[1;31m---------------------------------------------------------------------------\u001b[0m",
      "\u001b[1;31mValueError\u001b[0m                                Traceback (most recent call last)",
      "Input \u001b[1;32mIn [1]\u001b[0m, in \u001b[0;36m<cell line: 11>\u001b[1;34m()\u001b[0m\n\u001b[0;32m      7\u001b[0m   \u001b[38;5;28;01mreturn\u001b[39;00m suma \u001b[38;5;66;03m#Si retornas una variable sin transformarla no le pongas parentesis ni nada\u001b[39;00m\n\u001b[0;32m     10\u001b[0m \u001b[38;5;28mprint\u001b[39m(suma(\u001b[38;5;241m1\u001b[39m,\u001b[38;5;241m100\u001b[39m))\n\u001b[1;32m---> 11\u001b[0m \u001b[38;5;28mprint\u001b[39m(\u001b[43msuma\u001b[49m\u001b[43m(\u001b[49m\u001b[38;5;241;43m20\u001b[39;49m\u001b[43m,\u001b[49m\u001b[38;5;241;43m1\u001b[39;49m\u001b[43m)\u001b[49m)\n",
      "Input \u001b[1;32mIn [1]\u001b[0m, in \u001b[0;36msuma\u001b[1;34m(x, y)\u001b[0m\n\u001b[0;32m      2\u001b[0m suma\u001b[38;5;241m=\u001b[39m\u001b[38;5;241m0\u001b[39m\n\u001b[0;32m      3\u001b[0m \u001b[38;5;28;01mif\u001b[39;00m y \u001b[38;5;241m<\u001b[39m x:\n\u001b[1;32m----> 4\u001b[0m   \u001b[38;5;28;01mraise\u001b[39;00m \u001b[38;5;167;01mValueError\u001b[39;00m(\u001b[38;5;124m\"\u001b[39m\u001b[38;5;124mEl fin no puede ser menor al inicio\u001b[39m\u001b[38;5;124m\"\u001b[39m)                   \n\u001b[0;32m      5\u001b[0m \u001b[38;5;28;01mfor\u001b[39;00m i \u001b[38;5;129;01min\u001b[39;00m \u001b[38;5;28mrange\u001b[39m (x,y\u001b[38;5;241m+\u001b[39m\u001b[38;5;241m1\u001b[39m):     \n\u001b[0;32m      6\u001b[0m     suma \u001b[38;5;241m+\u001b[39m\u001b[38;5;241m=\u001b[39m i                    \n",
      "\u001b[1;31mValueError\u001b[0m: El fin no puede ser menor al inicio"
     ]
    }
   ],
   "source": [
    "def suma(x,y):                    # Defino la función suma\n",
    "    for i in range (x+1,y+1):     # Aplico el ciclo FOR para crear un bucle\n",
    "        x += i                    # Sumo la variable x a su iterador\n",
    "    return(x)\n",
    "\n",
    "res = suma(1,100)                   # Almaceno el resultado en res\n",
    "\n",
    "print(res)                        # Muestro res\n",
    "\n",
    "#Esto está bien pero recordá que el inicio del rango es incluido. No va ese x+1 en el range\n",
    "#También podrías poner una validación para que no se pueda poner un valor en y menor que en x\n",
    "#Podés usar un print o el raise de más arriba\n",
    "def suma(x,y):\n",
    "  suma=0\n",
    "  if y < x:\n",
    "    raise ValueError(\"El fin no puede ser menor al inicio\")                   \n",
    "  for i in range (x,y+1):     \n",
    "      suma += i                    \n",
    "  return suma #Si retornas una variable sin transformarla no le pongas parentesis ni nada\n",
    "\n",
    "\n",
    "print(suma(1,100))\n",
    "print(suma(20,1))"
   ]
  }
 ],
 "metadata": {
  "colab": {
   "authorship_tag": "ABX9TyMRuKpVnzsxhITAbsj3RK9f",
   "name": "Funciones Falchini.ipynb",
   "provenance": []
  },
  "kernelspec": {
   "display_name": "Python 3 (ipykernel)",
   "language": "python",
   "name": "python3"
  },
  "language_info": {
   "codemirror_mode": {
    "name": "ipython",
    "version": 3
   },
   "file_extension": ".py",
   "mimetype": "text/x-python",
   "name": "python",
   "nbconvert_exporter": "python",
   "pygments_lexer": "ipython3",
   "version": "3.9.12"
  }
 },
 "nbformat": 4,
 "nbformat_minor": 4
}
