{
 "cells": [
  {
   "cell_type": "markdown",
   "metadata": {
    "id": "MUh3fOtBMAYp"
   },
   "source": [
    "Ejercicio 1"
   ]
  },
  {
   "cell_type": "code",
   "execution_count": 1,
   "metadata": {
    "colab": {
     "base_uri": "https://localhost:8080/"
    },
    "executionInfo": {
     "elapsed": 283,
     "status": "ok",
     "timestamp": 1645712351974,
     "user": {
      "displayName": "Luca Falchini",
      "photoUrl": "https://lh3.googleusercontent.com/a-/AOh14Gi46ftlFbRpNjilfUnJ-LeG-A8h3Cm5p9jYfq7qdA=s64",
      "userId": "08058928427060782535"
     },
     "user_tz": 180
    },
    "id": "Ur-7Eylb4nra",
    "outputId": "fc80da03-8400-4b4c-8000-4bd89ece854b"
   },
   "outputs": [
    {
     "data": {
      "text/plain": [
       "array([32, 89, 74, 58, 81, 80, 88,  6, 24, 16, 54, 27, 73, 15,  8, 58, 49,\n",
       "       15, 23, 71, 10,  1, 66,  7, 44, 12,  2, 51, 80, 44, 64,  7, 14, 43,\n",
       "       87, 26, 41, 97, 27, 15, 57, 91, 69, 84, 53, 13, 98, 36, 81, 86, 12,\n",
       "       63, 26, 26,  7, 23, 86, 57, 81, 86, 92, 57, 87, 96, 65, 30, 87, 94,\n",
       "       92, 50, 68, 42, 28, 51, 24, 45,  9, 54, 17, 52, 29,  4, 15, 38, 43,\n",
       "        4, 73, 49, 41, 62, 67, 80, 19, 34,  4, 80, 43, 99, 63, 80])"
      ]
     },
     "execution_count": 1,
     "metadata": {},
     "output_type": "execute_result"
    }
   ],
   "source": [
    "import numpy as np\n",
    "Np_100_elementos = np.random.randint(100, size=100)\n",
    "Np_100_elementos"
   ]
  },
  {
   "cell_type": "code",
   "execution_count": 2,
   "metadata": {
    "colab": {
     "base_uri": "https://localhost:8080/"
    },
    "executionInfo": {
     "elapsed": 16,
     "status": "ok",
     "timestamp": 1645671879527,
     "user": {
      "displayName": "Matías Agustín Souto",
      "photoUrl": "https://lh3.googleusercontent.com/a-/AOh14Gi6UDM9a9fLEOUvqsc27XQcpkmHP922EPWvbAfS=s64",
      "userId": "07683847499926797803"
     },
     "user_tz": 180
    },
    "id": "UiC0iidP9Tme",
    "outputId": "f6d7bef2-42c1-42e9-c828-b26abd6c2b27"
   },
   "outputs": [
    {
     "data": {
      "text/plain": [
       "49.5"
      ]
     },
     "execution_count": 2,
     "metadata": {},
     "output_type": "execute_result"
    }
   ],
   "source": [
    "np.median(Np_100_elementos)\n",
    "\n",
    "#Muy bien! Perfecto"
   ]
  },
  {
   "cell_type": "markdown",
   "metadata": {
    "id": "h8XVyGPnMKpf"
   },
   "source": [
    "Ejercicio 2"
   ]
  },
  {
   "cell_type": "code",
   "execution_count": 3,
   "metadata": {
    "colab": {
     "base_uri": "https://localhost:8080/"
    },
    "executionInfo": {
     "elapsed": 283,
     "status": "ok",
     "timestamp": 1645712747475,
     "user": {
      "displayName": "Luca Falchini",
      "photoUrl": "https://lh3.googleusercontent.com/a-/AOh14Gi46ftlFbRpNjilfUnJ-LeG-A8h3Cm5p9jYfq7qdA=s64",
      "userId": "08058928427060782535"
     },
     "user_tz": 180
    },
    "id": "mNzArF3E94zP",
    "outputId": "5fb614d9-cc19-4bf3-ce7c-40ea916d4ca3"
   },
   "outputs": [
    {
     "name": "stdout",
     "output_type": "stream",
     "text": [
      "720\n"
     ]
    }
   ],
   "source": [
    "def Factorial(num):\n",
    "  \n",
    "  Np_numeros = np.array(range(1, num+1))\n",
    "  \n",
    "  if num < 0:\n",
    "   raise TypeError(\"El factorial de un numero negativo no se puede calcular con esta función\")\n",
    "  else:\n",
    "    Np_numeros.prod()\n",
    "  return Np_numeros.prod()\n",
    "\n",
    "print(Factorial(6))"
   ]
  },
  {
   "cell_type": "code",
   "execution_count": 4,
   "metadata": {
    "colab": {
     "base_uri": "https://localhost:8080/"
    },
    "executionInfo": {
     "elapsed": 279,
     "status": "ok",
     "timestamp": 1645712980226,
     "user": {
      "displayName": "Luca Falchini",
      "photoUrl": "https://lh3.googleusercontent.com/a-/AOh14Gi46ftlFbRpNjilfUnJ-LeG-A8h3Cm5p9jYfq7qdA=s64",
      "userId": "08058928427060782535"
     },
     "user_tz": 180
    },
    "id": "Az46sRWKJOUC",
    "outputId": "20750114-d439-4141-a13f-b24a18345930"
   },
   "outputs": [
    {
     "name": "stdout",
     "output_type": "stream",
     "text": [
      "5050\n"
     ]
    }
   ],
   "source": [
    "def sumatoria(num1, num2):\n",
    "  \n",
    "  Np_numbers = np.array(range(num1, num2+1))\n",
    "  \n",
    "  if num2 < num1:\n",
    "    raise ValueError(\"El fin no puede ser menor al inicio\")\n",
    "  else:\n",
    "    Np_numbers.sum()\n",
    "  return Np_numbers.sum()\n",
    "\n",
    "print(sumatoria(1,100))"
   ]
  },
  {
   "cell_type": "markdown",
   "metadata": {
    "id": "DlNuaaU_MNxH"
   },
   "source": [
    "Ejercicio 3"
   ]
  },
  {
   "cell_type": "code",
   "execution_count": 5,
   "metadata": {
    "id": "QumYs3uWL1NI"
   },
   "outputs": [],
   "source": [
    "import pandas as pd\n",
    "import numpy as np\n",
    "import ast\n",
    "\n",
    "def getArrayFromDrive():\n",
    "    \"\"\"La siguiente funcion obtiene el archivo en google Spreadsheet, lo transforma en un dataframe \n",
    "    y obtiene la columna a trabajar que es la columna de Salario mensual NETO y devuelve un numpy array luego \n",
    "    de haber borrado los valores nulos de la columna.\n",
    "    \n",
    "    \"\"\"\n",
    "    sheet_url = \"https://docs.google.com/spreadsheets/d/15Stnum8mI9QdwF9ZiPFCe3_qG9XyZyNzmOSIDunzPjA/view#gid=255849258\"\n",
    "    url = sheet_url.replace(\"/view#gid=\", \"/export?format=csv&gid=\")\n",
    "    df = pd.read_csv(url)\n",
    "    \n",
    "    return pd.to_numeric(df[\"Salario mensual NETO (en tu moneda local)\"],errors='coerce').dropna().to_numpy()"
   ]
  },
  {
   "cell_type": "code",
   "execution_count": 6,
   "metadata": {
    "colab": {
     "base_uri": "https://localhost:8080/"
    },
    "executionInfo": {
     "elapsed": 1696,
     "status": "ok",
     "timestamp": 1645715126612,
     "user": {
      "displayName": "Luca Falchini",
      "photoUrl": "https://lh3.googleusercontent.com/a-/AOh14Gi46ftlFbRpNjilfUnJ-LeG-A8h3Cm5p9jYfq7qdA=s64",
      "userId": "08058928427060782535"
     },
     "user_tz": 180
    },
    "id": "OqA4fKbjPo63",
    "outputId": "3fb61996-b46c-49d7-dc22-ac1600a44170"
   },
   "outputs": [
    {
     "name": "stdout",
     "output_type": "stream",
     "text": [
      "Salario Máximo\n",
      "118192949302.0\n",
      "\n",
      "Media Salarios\n",
      "19306004.37798064\n",
      "\n",
      "Mediana Salarios\n",
      "76000.0\n"
     ]
    }
   ],
   "source": [
    "Np_salarios = np.array(getArrayFromDrive())\n",
    "Np_salarios    \n",
    "print(\"Salario Máximo\")\n",
    "print(Np_salarios.max())\n",
    "print(\"\")\n",
    "\n",
    "def media_salarios(Np_salarios):\n",
    "  Np_salarios.mean()\n",
    "  return Np_salarios.mean()\n",
    "\n",
    "print(\"Media Salarios\")\n",
    "print(media_salarios(Np_salarios))\n",
    "print(\"\")\n",
    "\n",
    "def mediana_salarios(Np_salarios):\n",
    "  np.median(Np_salarios)\n",
    "  return(np.median(Np_salarios))\n",
    "\n",
    "print(\"Mediana Salarios\")\n",
    "print(mediana_salarios(Np_salarios))"
   ]
  },
  {
   "cell_type": "markdown",
   "metadata": {
    "id": "F878bs0As370"
   },
   "source": [
    "El problema es que hay un valor que rompe el tipo de dato. Acá compilé 3 soluciones posibles para este caso. Elegí una y procedé a calcular los valores que se piden\n",
    "https://colab.research.google.com/drive/1xCqRw9MAgoJQ3XdGEAnidLAYbyooqEMo?usp=sharing"
   ]
  }
 ],
 "metadata": {
  "colab": {
   "collapsed_sections": [],
   "name": "Arrays Falchini.ipynb",
   "provenance": []
  },
  "kernelspec": {
   "display_name": "Python 3 (ipykernel)",
   "language": "python",
   "name": "python3"
  },
  "language_info": {
   "codemirror_mode": {
    "name": "ipython",
    "version": 3
   },
   "file_extension": ".py",
   "mimetype": "text/x-python",
   "name": "python",
   "nbconvert_exporter": "python",
   "pygments_lexer": "ipython3",
   "version": "3.9.12"
  }
 },
 "nbformat": 4,
 "nbformat_minor": 4
}
