{
 "cells": [
  {
   "cell_type": "code",
   "execution_count": 1,
   "metadata": {
    "colab": {
     "base_uri": "https://localhost:8080/",
     "height": 35
    },
    "executionInfo": {
     "elapsed": 1837,
     "status": "ok",
     "timestamp": 1646951048202,
     "user": {
      "displayName": "Luca Falchini",
      "photoUrl": "https://lh3.googleusercontent.com/a-/AOh14Gi46ftlFbRpNjilfUnJ-LeG-A8h3Cm5p9jYfq7qdA=s64",
      "userId": "08058928427060782535"
     },
     "user_tz": 180
    },
    "id": "DtjG91M0UR8e",
    "outputId": "a6921e03-4b6b-48e8-8c50-1ed40f12af21"
   },
   "outputs": [
    {
     "data": {
      "text/plain": [
       "'0.11.2'"
      ]
     },
     "execution_count": 1,
     "metadata": {},
     "output_type": "execute_result"
    }
   ],
   "source": [
    "import pandas as pd\n",
    "import numpy as np\n",
    "import matplotlib.pyplot as plt\n",
    "import matplotlib as mpl\n",
    "import seaborn as sns\n",
    "sns.__version__"
   ]
  },
  {
   "cell_type": "code",
   "execution_count": 2,
   "metadata": {
    "colab": {
     "base_uri": "https://localhost:8080/",
     "height": 320
    },
    "executionInfo": {
     "elapsed": 755,
     "status": "ok",
     "timestamp": 1646951048948,
     "user": {
      "displayName": "Luca Falchini",
      "photoUrl": "https://lh3.googleusercontent.com/a-/AOh14Gi46ftlFbRpNjilfUnJ-LeG-A8h3Cm5p9jYfq7qdA=s64",
      "userId": "08058928427060782535"
     },
     "user_tz": 180
    },
    "id": "AcE3TqlfWKdj",
    "outputId": "7f1e1b05-179b-481e-de0b-61aff7fea0f3"
   },
   "outputs": [
    {
     "data": {
      "text/html": [
       "<div>\n",
       "<style scoped>\n",
       "    .dataframe tbody tr th:only-of-type {\n",
       "        vertical-align: middle;\n",
       "    }\n",
       "\n",
       "    .dataframe tbody tr th {\n",
       "        vertical-align: top;\n",
       "    }\n",
       "\n",
       "    .dataframe thead th {\n",
       "        text-align: right;\n",
       "    }\n",
       "</style>\n",
       "<table border=\"1\" class=\"dataframe\">\n",
       "  <thead>\n",
       "    <tr style=\"text-align: right;\">\n",
       "      <th></th>\n",
       "      <th>Employee_Name</th>\n",
       "      <th>EmpID</th>\n",
       "      <th>MarriedID</th>\n",
       "      <th>MaritalStatusID</th>\n",
       "      <th>GenderID</th>\n",
       "      <th>EmpStatusID</th>\n",
       "      <th>DeptID</th>\n",
       "      <th>PerfScoreID</th>\n",
       "      <th>FromDiversityJobFairID</th>\n",
       "      <th>Salary</th>\n",
       "      <th>...</th>\n",
       "      <th>ManagerName</th>\n",
       "      <th>ManagerID</th>\n",
       "      <th>RecruitmentSource</th>\n",
       "      <th>PerformanceScore</th>\n",
       "      <th>EngagementSurvey</th>\n",
       "      <th>EmpSatisfaction</th>\n",
       "      <th>SpecialProjectsCount</th>\n",
       "      <th>LastPerformanceReview_Date</th>\n",
       "      <th>DaysLateLast30</th>\n",
       "      <th>Absences</th>\n",
       "    </tr>\n",
       "  </thead>\n",
       "  <tbody>\n",
       "    <tr>\n",
       "      <th>0</th>\n",
       "      <td>Adinolfi, Wilson  K</td>\n",
       "      <td>10026</td>\n",
       "      <td>0</td>\n",
       "      <td>0</td>\n",
       "      <td>1</td>\n",
       "      <td>1</td>\n",
       "      <td>5</td>\n",
       "      <td>4</td>\n",
       "      <td>0</td>\n",
       "      <td>62506</td>\n",
       "      <td>...</td>\n",
       "      <td>Michael Albert</td>\n",
       "      <td>22.0</td>\n",
       "      <td>LinkedIn</td>\n",
       "      <td>Exceeds</td>\n",
       "      <td>4.60</td>\n",
       "      <td>5</td>\n",
       "      <td>0</td>\n",
       "      <td>1/17/2019</td>\n",
       "      <td>0</td>\n",
       "      <td>1</td>\n",
       "    </tr>\n",
       "    <tr>\n",
       "      <th>1</th>\n",
       "      <td>Ait Sidi, Karthikeyan</td>\n",
       "      <td>10084</td>\n",
       "      <td>1</td>\n",
       "      <td>1</td>\n",
       "      <td>1</td>\n",
       "      <td>5</td>\n",
       "      <td>3</td>\n",
       "      <td>3</td>\n",
       "      <td>0</td>\n",
       "      <td>104437</td>\n",
       "      <td>...</td>\n",
       "      <td>Simon Roup</td>\n",
       "      <td>4.0</td>\n",
       "      <td>Indeed</td>\n",
       "      <td>Fully Meets</td>\n",
       "      <td>4.96</td>\n",
       "      <td>3</td>\n",
       "      <td>6</td>\n",
       "      <td>2/24/2016</td>\n",
       "      <td>0</td>\n",
       "      <td>17</td>\n",
       "    </tr>\n",
       "    <tr>\n",
       "      <th>2</th>\n",
       "      <td>Akinkuolie, Sarah</td>\n",
       "      <td>10196</td>\n",
       "      <td>1</td>\n",
       "      <td>1</td>\n",
       "      <td>0</td>\n",
       "      <td>5</td>\n",
       "      <td>5</td>\n",
       "      <td>3</td>\n",
       "      <td>0</td>\n",
       "      <td>64955</td>\n",
       "      <td>...</td>\n",
       "      <td>Kissy Sullivan</td>\n",
       "      <td>20.0</td>\n",
       "      <td>LinkedIn</td>\n",
       "      <td>Fully Meets</td>\n",
       "      <td>3.02</td>\n",
       "      <td>3</td>\n",
       "      <td>0</td>\n",
       "      <td>5/15/2012</td>\n",
       "      <td>0</td>\n",
       "      <td>3</td>\n",
       "    </tr>\n",
       "    <tr>\n",
       "      <th>3</th>\n",
       "      <td>Alagbe,Trina</td>\n",
       "      <td>10088</td>\n",
       "      <td>1</td>\n",
       "      <td>1</td>\n",
       "      <td>0</td>\n",
       "      <td>1</td>\n",
       "      <td>5</td>\n",
       "      <td>3</td>\n",
       "      <td>0</td>\n",
       "      <td>64991</td>\n",
       "      <td>...</td>\n",
       "      <td>Elijiah Gray</td>\n",
       "      <td>16.0</td>\n",
       "      <td>Indeed</td>\n",
       "      <td>Fully Meets</td>\n",
       "      <td>4.84</td>\n",
       "      <td>5</td>\n",
       "      <td>0</td>\n",
       "      <td>1/3/2019</td>\n",
       "      <td>0</td>\n",
       "      <td>15</td>\n",
       "    </tr>\n",
       "  </tbody>\n",
       "</table>\n",
       "<p>4 rows × 36 columns</p>\n",
       "</div>"
      ],
      "text/plain": [
       "              Employee_Name  EmpID  MarriedID  MaritalStatusID  GenderID  \\\n",
       "0       Adinolfi, Wilson  K  10026          0                0         1   \n",
       "1  Ait Sidi, Karthikeyan     10084          1                1         1   \n",
       "2         Akinkuolie, Sarah  10196          1                1         0   \n",
       "3              Alagbe,Trina  10088          1                1         0   \n",
       "\n",
       "   EmpStatusID  DeptID  PerfScoreID  FromDiversityJobFairID  Salary  ...  \\\n",
       "0            1       5            4                       0   62506  ...   \n",
       "1            5       3            3                       0  104437  ...   \n",
       "2            5       5            3                       0   64955  ...   \n",
       "3            1       5            3                       0   64991  ...   \n",
       "\n",
       "      ManagerName  ManagerID RecruitmentSource PerformanceScore  \\\n",
       "0  Michael Albert       22.0          LinkedIn          Exceeds   \n",
       "1      Simon Roup        4.0            Indeed      Fully Meets   \n",
       "2  Kissy Sullivan       20.0          LinkedIn      Fully Meets   \n",
       "3    Elijiah Gray       16.0            Indeed      Fully Meets   \n",
       "\n",
       "   EngagementSurvey EmpSatisfaction SpecialProjectsCount  \\\n",
       "0              4.60               5                    0   \n",
       "1              4.96               3                    6   \n",
       "2              3.02               3                    0   \n",
       "3              4.84               5                    0   \n",
       "\n",
       "  LastPerformanceReview_Date DaysLateLast30 Absences  \n",
       "0                  1/17/2019              0        1  \n",
       "1                  2/24/2016              0       17  \n",
       "2                  5/15/2012              0        3  \n",
       "3                   1/3/2019              0       15  \n",
       "\n",
       "[4 rows x 36 columns]"
      ]
     },
     "execution_count": 2,
     "metadata": {},
     "output_type": "execute_result"
    }
   ],
   "source": [
    "df = pd.read_csv('Data/HRDataset_v14.csv')\n",
    "df.head(4)"
   ]
  },
  {
   "cell_type": "code",
   "execution_count": 3,
   "metadata": {
    "colab": {
     "base_uri": "https://localhost:8080/",
     "height": 364
    },
    "executionInfo": {
     "elapsed": 288,
     "status": "ok",
     "timestamp": 1646951049217,
     "user": {
      "displayName": "Luca Falchini",
      "photoUrl": "https://lh3.googleusercontent.com/a-/AOh14Gi46ftlFbRpNjilfUnJ-LeG-A8h3Cm5p9jYfq7qdA=s64",
      "userId": "08058928427060782535"
     },
     "user_tz": 180
    },
    "id": "FAQRFsetXswm",
    "outputId": "9f2fa827-39e5-4215-f8cf-355f384c9673"
   },
   "outputs": [
    {
     "data": {
      "text/html": [
       "<div>\n",
       "<style scoped>\n",
       "    .dataframe tbody tr th:only-of-type {\n",
       "        vertical-align: middle;\n",
       "    }\n",
       "\n",
       "    .dataframe tbody tr th {\n",
       "        vertical-align: top;\n",
       "    }\n",
       "\n",
       "    .dataframe thead th {\n",
       "        text-align: right;\n",
       "    }\n",
       "</style>\n",
       "<table border=\"1\" class=\"dataframe\">\n",
       "  <thead>\n",
       "    <tr style=\"text-align: right;\">\n",
       "      <th></th>\n",
       "      <th>EmpID</th>\n",
       "      <th>MarriedID</th>\n",
       "      <th>MaritalStatusID</th>\n",
       "      <th>GenderID</th>\n",
       "      <th>EmpStatusID</th>\n",
       "      <th>DeptID</th>\n",
       "      <th>PerfScoreID</th>\n",
       "      <th>FromDiversityJobFairID</th>\n",
       "      <th>Salary</th>\n",
       "      <th>Termd</th>\n",
       "      <th>PositionID</th>\n",
       "      <th>Zip</th>\n",
       "      <th>ManagerID</th>\n",
       "      <th>EngagementSurvey</th>\n",
       "      <th>EmpSatisfaction</th>\n",
       "      <th>SpecialProjectsCount</th>\n",
       "      <th>DaysLateLast30</th>\n",
       "      <th>Absences</th>\n",
       "    </tr>\n",
       "  </thead>\n",
       "  <tbody>\n",
       "    <tr>\n",
       "      <th>count</th>\n",
       "      <td>311.000000</td>\n",
       "      <td>311.000000</td>\n",
       "      <td>311.000000</td>\n",
       "      <td>311.000000</td>\n",
       "      <td>311.000000</td>\n",
       "      <td>311.000000</td>\n",
       "      <td>311.000000</td>\n",
       "      <td>311.000000</td>\n",
       "      <td>311.000000</td>\n",
       "      <td>311.000000</td>\n",
       "      <td>311.000000</td>\n",
       "      <td>311.000000</td>\n",
       "      <td>303.000000</td>\n",
       "      <td>311.000000</td>\n",
       "      <td>311.000000</td>\n",
       "      <td>311.000000</td>\n",
       "      <td>311.000000</td>\n",
       "      <td>311.000000</td>\n",
       "    </tr>\n",
       "    <tr>\n",
       "      <th>mean</th>\n",
       "      <td>10156.000000</td>\n",
       "      <td>0.398714</td>\n",
       "      <td>0.810289</td>\n",
       "      <td>0.434084</td>\n",
       "      <td>2.392283</td>\n",
       "      <td>4.610932</td>\n",
       "      <td>2.977492</td>\n",
       "      <td>0.093248</td>\n",
       "      <td>69020.684887</td>\n",
       "      <td>0.334405</td>\n",
       "      <td>16.845659</td>\n",
       "      <td>6555.482315</td>\n",
       "      <td>14.570957</td>\n",
       "      <td>4.110000</td>\n",
       "      <td>3.890675</td>\n",
       "      <td>1.218650</td>\n",
       "      <td>0.414791</td>\n",
       "      <td>10.237942</td>\n",
       "    </tr>\n",
       "    <tr>\n",
       "      <th>std</th>\n",
       "      <td>89.922189</td>\n",
       "      <td>0.490423</td>\n",
       "      <td>0.943239</td>\n",
       "      <td>0.496435</td>\n",
       "      <td>1.794383</td>\n",
       "      <td>1.083487</td>\n",
       "      <td>0.587072</td>\n",
       "      <td>0.291248</td>\n",
       "      <td>25156.636930</td>\n",
       "      <td>0.472542</td>\n",
       "      <td>6.223419</td>\n",
       "      <td>16908.396884</td>\n",
       "      <td>8.078306</td>\n",
       "      <td>0.789938</td>\n",
       "      <td>0.909241</td>\n",
       "      <td>2.349421</td>\n",
       "      <td>1.294519</td>\n",
       "      <td>5.852596</td>\n",
       "    </tr>\n",
       "    <tr>\n",
       "      <th>min</th>\n",
       "      <td>10001.000000</td>\n",
       "      <td>0.000000</td>\n",
       "      <td>0.000000</td>\n",
       "      <td>0.000000</td>\n",
       "      <td>1.000000</td>\n",
       "      <td>1.000000</td>\n",
       "      <td>1.000000</td>\n",
       "      <td>0.000000</td>\n",
       "      <td>45046.000000</td>\n",
       "      <td>0.000000</td>\n",
       "      <td>1.000000</td>\n",
       "      <td>1013.000000</td>\n",
       "      <td>1.000000</td>\n",
       "      <td>1.120000</td>\n",
       "      <td>1.000000</td>\n",
       "      <td>0.000000</td>\n",
       "      <td>0.000000</td>\n",
       "      <td>1.000000</td>\n",
       "    </tr>\n",
       "    <tr>\n",
       "      <th>25%</th>\n",
       "      <td>10078.500000</td>\n",
       "      <td>0.000000</td>\n",
       "      <td>0.000000</td>\n",
       "      <td>0.000000</td>\n",
       "      <td>1.000000</td>\n",
       "      <td>5.000000</td>\n",
       "      <td>3.000000</td>\n",
       "      <td>0.000000</td>\n",
       "      <td>55501.500000</td>\n",
       "      <td>0.000000</td>\n",
       "      <td>18.000000</td>\n",
       "      <td>1901.500000</td>\n",
       "      <td>10.000000</td>\n",
       "      <td>3.690000</td>\n",
       "      <td>3.000000</td>\n",
       "      <td>0.000000</td>\n",
       "      <td>0.000000</td>\n",
       "      <td>5.000000</td>\n",
       "    </tr>\n",
       "    <tr>\n",
       "      <th>50%</th>\n",
       "      <td>10156.000000</td>\n",
       "      <td>0.000000</td>\n",
       "      <td>1.000000</td>\n",
       "      <td>0.000000</td>\n",
       "      <td>1.000000</td>\n",
       "      <td>5.000000</td>\n",
       "      <td>3.000000</td>\n",
       "      <td>0.000000</td>\n",
       "      <td>62810.000000</td>\n",
       "      <td>0.000000</td>\n",
       "      <td>19.000000</td>\n",
       "      <td>2132.000000</td>\n",
       "      <td>15.000000</td>\n",
       "      <td>4.280000</td>\n",
       "      <td>4.000000</td>\n",
       "      <td>0.000000</td>\n",
       "      <td>0.000000</td>\n",
       "      <td>10.000000</td>\n",
       "    </tr>\n",
       "    <tr>\n",
       "      <th>75%</th>\n",
       "      <td>10233.500000</td>\n",
       "      <td>1.000000</td>\n",
       "      <td>1.000000</td>\n",
       "      <td>1.000000</td>\n",
       "      <td>5.000000</td>\n",
       "      <td>5.000000</td>\n",
       "      <td>3.000000</td>\n",
       "      <td>0.000000</td>\n",
       "      <td>72036.000000</td>\n",
       "      <td>1.000000</td>\n",
       "      <td>20.000000</td>\n",
       "      <td>2355.000000</td>\n",
       "      <td>19.000000</td>\n",
       "      <td>4.700000</td>\n",
       "      <td>5.000000</td>\n",
       "      <td>0.000000</td>\n",
       "      <td>0.000000</td>\n",
       "      <td>15.000000</td>\n",
       "    </tr>\n",
       "    <tr>\n",
       "      <th>max</th>\n",
       "      <td>10311.000000</td>\n",
       "      <td>1.000000</td>\n",
       "      <td>4.000000</td>\n",
       "      <td>1.000000</td>\n",
       "      <td>5.000000</td>\n",
       "      <td>6.000000</td>\n",
       "      <td>4.000000</td>\n",
       "      <td>1.000000</td>\n",
       "      <td>250000.000000</td>\n",
       "      <td>1.000000</td>\n",
       "      <td>30.000000</td>\n",
       "      <td>98052.000000</td>\n",
       "      <td>39.000000</td>\n",
       "      <td>5.000000</td>\n",
       "      <td>5.000000</td>\n",
       "      <td>8.000000</td>\n",
       "      <td>6.000000</td>\n",
       "      <td>20.000000</td>\n",
       "    </tr>\n",
       "  </tbody>\n",
       "</table>\n",
       "</div>"
      ],
      "text/plain": [
       "              EmpID   MarriedID  MaritalStatusID    GenderID  EmpStatusID  \\\n",
       "count    311.000000  311.000000       311.000000  311.000000   311.000000   \n",
       "mean   10156.000000    0.398714         0.810289    0.434084     2.392283   \n",
       "std       89.922189    0.490423         0.943239    0.496435     1.794383   \n",
       "min    10001.000000    0.000000         0.000000    0.000000     1.000000   \n",
       "25%    10078.500000    0.000000         0.000000    0.000000     1.000000   \n",
       "50%    10156.000000    0.000000         1.000000    0.000000     1.000000   \n",
       "75%    10233.500000    1.000000         1.000000    1.000000     5.000000   \n",
       "max    10311.000000    1.000000         4.000000    1.000000     5.000000   \n",
       "\n",
       "           DeptID  PerfScoreID  FromDiversityJobFairID         Salary  \\\n",
       "count  311.000000   311.000000              311.000000     311.000000   \n",
       "mean     4.610932     2.977492                0.093248   69020.684887   \n",
       "std      1.083487     0.587072                0.291248   25156.636930   \n",
       "min      1.000000     1.000000                0.000000   45046.000000   \n",
       "25%      5.000000     3.000000                0.000000   55501.500000   \n",
       "50%      5.000000     3.000000                0.000000   62810.000000   \n",
       "75%      5.000000     3.000000                0.000000   72036.000000   \n",
       "max      6.000000     4.000000                1.000000  250000.000000   \n",
       "\n",
       "            Termd  PositionID           Zip   ManagerID  EngagementSurvey  \\\n",
       "count  311.000000  311.000000    311.000000  303.000000        311.000000   \n",
       "mean     0.334405   16.845659   6555.482315   14.570957          4.110000   \n",
       "std      0.472542    6.223419  16908.396884    8.078306          0.789938   \n",
       "min      0.000000    1.000000   1013.000000    1.000000          1.120000   \n",
       "25%      0.000000   18.000000   1901.500000   10.000000          3.690000   \n",
       "50%      0.000000   19.000000   2132.000000   15.000000          4.280000   \n",
       "75%      1.000000   20.000000   2355.000000   19.000000          4.700000   \n",
       "max      1.000000   30.000000  98052.000000   39.000000          5.000000   \n",
       "\n",
       "       EmpSatisfaction  SpecialProjectsCount  DaysLateLast30    Absences  \n",
       "count       311.000000            311.000000      311.000000  311.000000  \n",
       "mean          3.890675              1.218650        0.414791   10.237942  \n",
       "std           0.909241              2.349421        1.294519    5.852596  \n",
       "min           1.000000              0.000000        0.000000    1.000000  \n",
       "25%           3.000000              0.000000        0.000000    5.000000  \n",
       "50%           4.000000              0.000000        0.000000   10.000000  \n",
       "75%           5.000000              0.000000        0.000000   15.000000  \n",
       "max           5.000000              8.000000        6.000000   20.000000  "
      ]
     },
     "execution_count": 3,
     "metadata": {},
     "output_type": "execute_result"
    }
   ],
   "source": [
    "df.describe()"
   ]
  },
  {
   "cell_type": "code",
   "execution_count": 5,
   "metadata": {
    "colab": {
     "base_uri": "https://localhost:8080/",
     "height": 282
    },
    "executionInfo": {
     "elapsed": 582,
     "status": "ok",
     "timestamp": 1646951049787,
     "user": {
      "displayName": "Luca Falchini",
      "photoUrl": "https://lh3.googleusercontent.com/a-/AOh14Gi46ftlFbRpNjilfUnJ-LeG-A8h3Cm5p9jYfq7qdA=s64",
      "userId": "08058928427060782535"
     },
     "user_tz": 180
    },
    "id": "yaZPEF3Kkm4j",
    "outputId": "ba2a5310-4eeb-4424-c352-c881153b4161"
   },
   "outputs": [
    {
     "data": {
      "image/png": "[encoded data removed]",
      "text/plain": [
       "<Figure size 864x432 with 1 Axes>"
      ]
     },
     "metadata": {
      "needs_background": "light"
     },
     "output_type": "display_data"
    }
   ],
   "source": [
    "rango= list(range((df.Salary.min()//1000)*1000,df.Salary.max(), 20000)) #//1000*1000 es para truncarlo al millar\n",
    "\n",
    "fig,ax= plt.subplots( figsize=(12,6))\n",
    "fig.tight_layout()\n",
    "\n",
    "ax.hist(x=df.Salary, bins=rango, color='green')\n",
    "ax.set_xticks(rango) #Pone los ticks con el rango\n",
    "ax.legend([f'Intervalos de salario'])\n",
    "plt.show()"
   ]
  },
  {
   "cell_type": "markdown",
   "metadata": {
    "id": "wffZu00apV5X"
   },
   "source": [
    "Los salarios más populares están entre 50000 y 70000"
   ]
  },
  {
   "cell_type": "code",
   "execution_count": 6,
   "metadata": {
    "colab": {
     "base_uri": "https://localhost:8080/",
     "height": 402
    },
    "executionInfo": {
     "elapsed": 1106,
     "status": "ok",
     "timestamp": 1646951050870,
     "user": {
      "displayName": "Luca Falchini",
      "photoUrl": "https://lh3.googleusercontent.com/a-/AOh14Gi46ftlFbRpNjilfUnJ-LeG-A8h3Cm5p9jYfq7qdA=s64",
      "userId": "08058928427060782535"
     },
     "user_tz": 180
    },
    "id": "urvB7R8Cn717",
    "outputId": "78b21a0c-b2d1-422e-fa10-8ac3e5f32c58"
   },
   "outputs": [
    {
     "data": {
      "text/plain": [
       "<seaborn.axisgrid.FacetGrid at 0x7f31e51cdd10>"
      ]
     },
     "execution_count": 6,
     "metadata": {},
     "output_type": "execute_result"
    },
    {
     "data": {
      "image/png": "[encoded data removed]",
      "text/plain": [
       "<Figure size 360x360 with 1 Axes>"
      ]
     },
     "metadata": {
      "needs_background": "light"
     },
     "output_type": "display_data"
    }
   ],
   "source": [
    "ax = sns.catplot(data=df, kind='violin', x='GenderID', y='Salary')\n",
    "ax.set(xlabel='Género', ylabel='Salario', title='Distribución de Salarios por Género')"
   ]
  },
  {
   "cell_type": "code",
   "execution_count": null,
   "metadata": {
    "id": "UYQqgAtS_KbN"
   },
   "outputs": [],
   "source": []
  },
  {
   "cell_type": "code",
   "execution_count": 6,
   "metadata": {
    "colab": {
     "base_uri": "https://localhost:8080/",
     "height": 0
    },
    "executionInfo": {
     "elapsed": 275,
     "status": "ok",
     "timestamp": 1646952756606,
     "user": {
      "displayName": "Luca Falchini",
      "photoUrl": "https://lh3.googleusercontent.com/a-/AOh14Gi46ftlFbRpNjilfUnJ-LeG-A8h3Cm5p9jYfq7qdA=s64",
      "userId": "08058928427060782535"
     },
     "user_tz": 180
    },
    "id": "7Ak4lUT2UDI7",
    "outputId": "f7f96305-bb1f-4872-ba37-fb8be2111051"
   },
   "outputs": [
    {
     "data": {
      "text/plain": [
       "0     2011-07-05\n",
       "1     2015-03-30\n",
       "2     2011-07-05\n",
       "3     2008-01-07\n",
       "4     2011-07-11\n",
       "         ...    \n",
       "306   2014-07-07\n",
       "307   2008-09-02\n",
       "308   2010-04-10\n",
       "309   2015-03-30\n",
       "310   2014-09-29\n",
       "Name: DateofHire, Length: 311, dtype: datetime64[ns]"
      ]
     },
     "execution_count": 6,
     "metadata": {},
     "output_type": "execute_result"
    }
   ],
   "source": [
    "DateofHire = pd.to_datetime(df.DateofHire)\n",
    "DateofHire"
   ]
  },
  {
   "cell_type": "code",
   "execution_count": 9,
   "metadata": {
    "colab": {
     "base_uri": "https://localhost:8080/",
     "height": 0
    },
    "executionInfo": {
     "elapsed": 274,
     "status": "ok",
     "timestamp": 1646952761571,
     "user": {
      "displayName": "Luca Falchini",
      "photoUrl": "https://lh3.googleusercontent.com/a-/AOh14Gi46ftlFbRpNjilfUnJ-LeG-A8h3Cm5p9jYfq7qdA=s64",
      "userId": "08058928427060782535"
     },
     "user_tz": 180
    },
    "id": "wmw_4EhS9vH-",
    "outputId": "69d44725-9925-4af0-fed1-bb415afffe5c"
   },
   "outputs": [
    {
     "data": {
      "text/plain": [
       "DateofHire\n",
       "2006-01-09    1\n",
       "2007-06-25    1\n",
       "2007-11-05    1\n",
       "2008-01-07    1\n",
       "2008-09-02    1\n",
       "             ..\n",
       "2017-01-07    1\n",
       "2017-02-10    1\n",
       "2017-02-15    2\n",
       "2017-04-20    2\n",
       "2018-07-09    1\n",
       "Name: EmpID, Length: 101, dtype: int64"
      ]
     },
     "execution_count": 9,
     "metadata": {},
     "output_type": "execute_result"
    }
   ],
   "source": [
    "Emp_count =  df.groupby(DateofHire)['EmpID'].count()\n",
    "Emp_count"
   ]
  },
  {
   "cell_type": "code",
   "execution_count": 10,
   "metadata": {
    "colab": {
     "base_uri": "https://localhost:8080/",
     "height": 285
    },
    "executionInfo": {
     "elapsed": 5646,
     "status": "ok",
     "timestamp": 1646955961794,
     "user": {
      "displayName": "Luca Falchini",
      "photoUrl": "https://lh3.googleusercontent.com/a-/AOh14Gi46ftlFbRpNjilfUnJ-LeG-A8h3Cm5p9jYfq7qdA=s64",
      "userId": "08058928427060782535"
     },
     "user_tz": 180
    },
    "id": "6cYUx_yx78K_",
    "outputId": "175a9f30-d709-447c-e107-428105bb227a"
   },
   "outputs": [
    {
     "data": {
      "image/png": "[encoded data removed]",
      "text/plain": [
       "<Figure size 432x288 with 1 Axes>"
      ]
     },
     "metadata": {
      "needs_background": "light"
     },
     "output_type": "display_data"
    }
   ],
   "source": [
    "ax4 = sns.lineplot(data=Emp_count) #No se como solucionar el problema de las leyendas todos superpuestas en el eje x.\n",
    "                                  #Como podría agrupar los valores del eje x por mes y luego graficarlos?"
   ]
  },
  {
   "cell_type": "code",
   "execution_count": 11,
   "metadata": {},
   "outputs": [
    {
     "data": {
      "text/plain": [
       "DateofHire\n",
       "2006     1\n",
       "2007     2\n",
       "2008     3\n",
       "2009     7\n",
       "2010     9\n",
       "2011    83\n",
       "2012    45\n",
       "2013    44\n",
       "2014    60\n",
       "2015    36\n",
       "2016    14\n",
       "2017     6\n",
       "2018     1\n",
       "Name: EmpID, dtype: int64"
      ]
     },
     "execution_count": 11,
     "metadata": {},
     "output_type": "execute_result"
    }
   ],
   "source": [
    "Emp_count =  df.groupby(DateofHire.dt.year)['EmpID'].count() #Asi se puede hacer en una linea\n",
    "Emp_count"
   ]
  },
  {
   "cell_type": "code",
   "execution_count": 12,
   "metadata": {},
   "outputs": [
    {
     "data": {
      "text/plain": [
       "<AxesSubplot:xlabel='DateofHire'>"
      ]
     },
     "execution_count": 12,
     "metadata": {},
     "output_type": "execute_result"
    },
    {
     "data": {
      "image/png": "[encoded data removed]",
      "text/plain": [
       "<Figure size 432x288 with 1 Axes>"
      ]
     },
     "metadata": {
      "needs_background": "light"
     },
     "output_type": "display_data"
    }
   ],
   "source": [
    "Emp_count.plot()"
   ]
  },
  {
   "cell_type": "code",
   "execution_count": 13,
   "metadata": {},
   "outputs": [
    {
     "data": {
      "text/html": [
       "<div>\n",
       "<style scoped>\n",
       "    .dataframe tbody tr th:only-of-type {\n",
       "        vertical-align: middle;\n",
       "    }\n",
       "\n",
       "    .dataframe tbody tr th {\n",
       "        vertical-align: top;\n",
       "    }\n",
       "\n",
       "    .dataframe thead th {\n",
       "        text-align: right;\n",
       "    }\n",
       "</style>\n",
       "<table border=\"1\" class=\"dataframe\">\n",
       "  <thead>\n",
       "    <tr style=\"text-align: right;\">\n",
       "      <th></th>\n",
       "      <th></th>\n",
       "      <th>EmpID</th>\n",
       "    </tr>\n",
       "    <tr>\n",
       "      <th>Year</th>\n",
       "      <th>Month</th>\n",
       "      <th></th>\n",
       "    </tr>\n",
       "  </thead>\n",
       "  <tbody>\n",
       "    <tr>\n",
       "      <th>2006</th>\n",
       "      <th>1</th>\n",
       "      <td>1</td>\n",
       "    </tr>\n",
       "    <tr>\n",
       "      <th rowspan=\"2\" valign=\"top\">2007</th>\n",
       "      <th>6</th>\n",
       "      <td>1</td>\n",
       "    </tr>\n",
       "    <tr>\n",
       "      <th>11</th>\n",
       "      <td>1</td>\n",
       "    </tr>\n",
       "    <tr>\n",
       "      <th rowspan=\"2\" valign=\"top\">2008</th>\n",
       "      <th>1</th>\n",
       "      <td>1</td>\n",
       "    </tr>\n",
       "    <tr>\n",
       "      <th>9</th>\n",
       "      <td>1</td>\n",
       "    </tr>\n",
       "    <tr>\n",
       "      <th>...</th>\n",
       "      <th>...</th>\n",
       "      <td>...</td>\n",
       "    </tr>\n",
       "    <tr>\n",
       "      <th>2016</th>\n",
       "      <th>10</th>\n",
       "      <td>2</td>\n",
       "    </tr>\n",
       "    <tr>\n",
       "      <th rowspan=\"3\" valign=\"top\">2017</th>\n",
       "      <th>1</th>\n",
       "      <td>1</td>\n",
       "    </tr>\n",
       "    <tr>\n",
       "      <th>2</th>\n",
       "      <td>3</td>\n",
       "    </tr>\n",
       "    <tr>\n",
       "      <th>4</th>\n",
       "      <td>2</td>\n",
       "    </tr>\n",
       "    <tr>\n",
       "      <th>2018</th>\n",
       "      <th>7</th>\n",
       "      <td>1</td>\n",
       "    </tr>\n",
       "  </tbody>\n",
       "</table>\n",
       "<p>70 rows × 1 columns</p>\n",
       "</div>"
      ],
      "text/plain": [
       "            EmpID\n",
       "Year Month       \n",
       "2006 1          1\n",
       "2007 6          1\n",
       "     11         1\n",
       "2008 1          1\n",
       "     9          1\n",
       "...           ...\n",
       "2016 10         2\n",
       "2017 1          1\n",
       "     2          3\n",
       "     4          2\n",
       "2018 7          1\n",
       "\n",
       "[70 rows x 1 columns]"
      ]
     },
     "execution_count": 13,
     "metadata": {},
     "output_type": "execute_result"
    }
   ],
   "source": [
    "year=DateofHire.dt.year\n",
    "month=DateofHire.dt.month\n",
    "year=year.rename(\"Year\")\n",
    "month=month.rename(\"Month\")\n",
    "\n",
    "Emp_count =  df.groupby([year,month])['EmpID'].count().to_frame() #Asi se puede agrupar por año y mes\n",
    "\n",
    "Emp_count"
   ]
  },
  {
   "cell_type": "code",
   "execution_count": 14,
   "metadata": {},
   "outputs": [
    {
     "data": {
      "image/png": "[encoded data removed]",
      "text/plain": [
       "<Figure size 1440x1296 with 13 Axes>"
      ]
     },
     "metadata": {
      "needs_background": "light"
     },
     "output_type": "display_data"
    }
   ],
   "source": [
    "df['Year']= df.DateofHire.apply(lambda x: pd.to_datetime(x).year) #Años de la fecha\n",
    "df['Month']= df.DateofHire.apply(lambda x: pd.to_datetime(x).month) #Meses de la fecha\n",
    "\n",
    "anios=df['Year'].sort_values().unique() #Cantidad de años unicos\n",
    "rows= len(anios)//3+1 #Cantidad de filas=division entera de cantidad de años unicos por 3  +1 \n",
    "cols= len(anios)//5+1 #Cantidad de columnas=division entera de cantidad de años unicos por 5 +1\n",
    "meses=list(range(1,13)) #Meses del 1 al 12\n",
    "meses_label=['Ene','Feb','Mar','Abr','May','Jun','Jul','Ago','Sep','Oct','Nov','Dic'] #Labels de los meses\n",
    "\n",
    "lista_contratacion_por_mes= [df[df.Year == i].groupby('Month')['EmpID'].count().to_frame() for i in df['Year'].sort_values().unique() ]\n",
    "#Esto es una lista de dfs en la que cada elemento es la cantidad de EmpID agrupados por mes para cada año\n",
    "\n",
    "fig, ax=plt.subplots(figsize=(20,18), ncols=cols, nrows=rows)\n",
    "idx=0 #Inicializas el valor para recorrer la lista con 0\n",
    "\n",
    "for row in range(rows):\n",
    "    for col in range(cols): #Esto es un for anidado. Primero va a la primera de row, recorre todas las col; Despues a la segunda de row, todas las cols ...\n",
    "        if idx >= len(lista_contratacion_por_mes): #Si el indice es igual o mayor a la lista, que borre el ax asi no queda vacío. Aclaro que la longitud es 1 más que el indice máximo porque éste empieza en 0 y la longitud en 1\n",
    "            ax[row,col].remove()\n",
    "        else:\n",
    "            ax[row,col].bar(lista_contratacion_por_mes[idx].index, lista_contratacion_por_mes[idx]['EmpID'].values, label=anios[idx]) #Grafico en si\n",
    "            ax[row,col].set_xticks(meses)\n",
    "            ax[row,col].set_yticks(range(1,17,2))\n",
    "            ax[row,col].set_xticklabels(meses_label)\n",
    "            ax[row,col].legend()\n",
    "            idx+=1\n",
    "            \n",
    "plt.tight_layout() #Esto para que queden bien separados"
   ]
  }
 ],
 "metadata": {
  "colab": {
   "authorship_tag": "ABX9TyOyM8/jB9fSORWWkgN8GRLB",
   "name": "Visualizacion Falchini",
   "provenance": []
  },
  "kernelspec": {
   "display_name": "Python 3 (ipykernel)",
   "language": "python",
   "name": "python3"
  },
  "language_info": {
   "codemirror_mode": {
    "name": "ipython",
    "version": 3
   },
   "file_extension": ".py",
   "mimetype": "text/x-python",
   "name": "python",
   "nbconvert_exporter": "python",
   "pygments_lexer": "ipython3",
   "version": "3.9.12"
  }
 },
 "nbformat": 4,
 "nbformat_minor": 4
}
